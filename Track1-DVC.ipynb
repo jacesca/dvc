{
 "cells": [
  {
   "cell_type": "markdown",
   "id": "d967a982-629f-462f-990c-f6c89c24137e",
   "metadata": {},
   "source": [
    "# Introduction to DVC\n",
    "\n",
    "This chapter provides a comprehensive introduction to Data Version Control (DVC), a tool essential for data versioning in machine learning. Learners will explore the motivation behind data versioning, understand its differences from code versioning, and experiment with a simple classification problem. They will review basic Git commands, learn about DVC, and practice setting up a repository. The chapter concludes with an overview of DVC’s features and use cases, including versioning data and models, CI/CD for machine learning, experiment tracking, pipelines, and more.\n",
    "\n",
    "## 1.1 Data Versioning Motivation\n",
    "\n",
    "### Ex.1 - Anatomy of a Machine Learning Model\n",
    "\n",
    "Now, you will reinforce your understanding of how data influences the model performance. You will be working with the Airbnb booking dataset (in the file booking.csv). The dataset is suited for classification tasks to predict if someone would cancel a booking. It contains several numerical and categorical columns. You will split the provided dataset into three mutually exclusive samples - train_A.csv, train_B.csv, and test.csv - using split_dataset.py script. Further, for each training dataset, you'll run the data processing and model training pipeline to train a Random Forest Classifier model and test its performance on the test set by using model_training.py. The hyperparameters defined in params.json are consistent in both runs.\n",
    "\n",
    "The Python scripts are designed to accept command line arguments and run via shell. Feel free to explore these scripts to enrich your understanding.\n",
    "\n",
    "**Instruction**\n",
    "\n",
    "1. Split the dataset by running the command `python split_dataset.py booking.csv train_A.csv train_B.csv test.csv` on the editor shell.\n",
    "2. Train and analyze model performance using the first training set by running `python model_training.py <params_file> <training_file> <test_file>` with proper filenames. Take a note of the metrics.\n",
    "3. Train and analyze model performance using the second training set by running `python model_training.py <params_file> <training_file> <test_file>` with proper filenames. Compare the metrics with the previous run."
   ]
  },
  {
   "cell_type": "code",
   "execution_count": 4,
   "id": "7e671c80-3a04-47af-bdec-196032e7f577",
   "metadata": {},
   "outputs": [
    {
     "name": "stdout",
     "output_type": "stream",
     "text": [
      "ExampleML1/data-processed/test.csv file created...\n",
      "ExampleML1/data-processed/train_A.csv file created...\n",
      "ExampleML1/data-processed/train_B.csv file created...\n",
      "Completed!\n"
     ]
    }
   ],
   "source": [
    "!python -m ExampleML1.split_dataset ExampleML1/data-raw/booking.csv \\\n",
    "                                    ExampleML1/data-processed/train_A.csv \\\n",
    "                                    ExampleML1/data-processed/train_B.csv \\\n",
    "                                    ExampleML1/data-processed/test.csv"
   ]
  },
  {
   "cell_type": "code",
   "execution_count": 5,
   "id": "d69fc058-0f39-4254-b185-123cc19f79b8",
   "metadata": {},
   "outputs": [
    {
     "name": "stdout",
     "output_type": "stream",
     "text": [
      "{'Precision': 0.8914, 'Recall': 0.4613, 'F1 Score': 0.608, 'Accuracy': 0.8031}\n"
     ]
    }
   ],
   "source": [
    "!python -m ExampleML1.model_training ExampleML1/config/params.json \\\n",
    "                                     ExampleML1/data-processed/train_A.csv \\\n",
    "                                     ExampleML1/data-processed/test.csv"
   ]
  },
  {
   "cell_type": "code",
   "execution_count": 6,
   "id": "6d09a42c-ee50-44be-9b32-b90e1a8a522d",
   "metadata": {},
   "outputs": [
    {
     "name": "stdout",
     "output_type": "stream",
     "text": [
      "{'Precision': 0.8421, 'Recall': 0.4908, 'F1 Score': 0.6202, 'Accuracy': 0.801}\n"
     ]
    }
   ],
   "source": [
    "!python -m ExampleML1.model_training ExampleML1/config/params.json \\\n",
    "                                     ExampleML1/data-processed/train_B.csv \\\n",
    "                                     ExampleML1/data-processed/test.csv"
   ]
  },
  {
   "cell_type": "markdown",
   "id": "62bf9fec-233f-422b-b969-33aa3d45c63d",
   "metadata": {},
   "source": [
    "## 1.2 DVC\n",
    "\n",
    "### Installation:\n",
    "\n",
    "1. Open PowerShell as Administrator\n",
    "\n",
    "2. Install **[Chocolatery](https://chocolatey.org/install)**\n",
    "    - Choose Individual\n",
    "    - Open Powershell as administrator\n",
    "    - Review that `Get-ExecutionPolicy` is not Restricted, by running\n",
    "        > ```\n",
    "        > $ Get-ExecutionPolicy\n",
    "        > ```\n",
    "        \n",
    "    - If restricted is returned, run\n",
    "        > ```\n",
    "        > Set-ExecutionPolicy Bypass -Scope Process\n",
    "        > ```\n",
    "        \n",
    "    - Run\n",
    "        > ```\n",
    "        > $ Set-ExecutionPolicy Bypass -Scope Process -Force; [System.Net.ServicePointManager]::SecurityProtocol = [System.Net.ServicePointManager]::SecurityProtocol -bor 3072; iex ((New-Object System.Net.WebClient).DownloadString('https://community.chocolatey.org/install.ps1'))\n",
    "        > ```\n",
    "        \n",
    "    - Once it is installed, you can verify it by running:\n",
    "        > ```\n",
    "        > $ choco -?\n",
    "        > ```\n",
    "\n",
    "3. Install **DVC**\n",
    "    > ```\n",
    "    > $ choco install dvc\n",
    "    > ```"
   ]
  },
  {
   "cell_type": "markdown",
   "id": "05acd372-8898-40f2-88d3-29b00db0fd2e",
   "metadata": {},
   "source": [
    "### Ex.2 - Working with Git CLI\n",
    "Imagine you're starting a new machine learning project. You want to utilize Git to track code changes and collaborate effectively. In this exercise, you'll create a Git repository, create a new branch, add an initial file, and make your first commit. These foundational Git commands will help you later when we apply them in conjunction with DVC. You can expand on this exercise by adding more files, creating more branches, and committing those changes to further your understanding.\n",
    "\n",
    "**Instruction:**\n",
    "\n",
    "1. Initialize a Git repository within this directory.\n",
    "2. Create a new branch called `main` using `git checkout -b <branch-name>` command.\n",
    "3. Add the `greeter.py` file to the staging area.\n",
    "4. Commit the changes with the following commit message `Initial commit: Added greeter.py`.\n",
    "\n",
    "> ```\n",
    "$ git init\n",
    "$ git checkout -b main\n",
    "$ git add greeter.py\n",
    "$ git commit -m \"Initial commit: Added greeter.py\"\n",
    "> ```"
   ]
  },
  {
   "cell_type": "markdown",
   "id": "46996510-b693-4f68-8809-5f0e14d50b15",
   "metadata": {},
   "source": [
    "### Ex.3 - Review DVC CLI\n",
    "\n",
    "In this exercise, you will test your knowledge of DVC (Data Version Control) commands by evaluating multiple statements about its CLI. DVC is a powerful tool for data versioning, and understanding its commands is essential for effective data management. Mark the statement(s) as correct based on whether the combination accurately represents the actions performed by each command.\n",
    "\n",
    "**Select all correct answers**\n",
    "\n",
    "- [x] `dvc init` initializes a DVC repository in your working folder. **True**\n",
    "- [ ] `dvc get` is used to synchronize data changes from a remote data server. False.\n",
    "    > `dvc get` is used to download a specific file or directory tracked by DVC.\n",
    "    > To synchronize data changes, `dvc pull` is used.\n",
    "- [x] `dvc checkout` is used to update all DVC-tracked files and directories to match a specific state. **True**\n",
    "- [ ] `dvc add` is used to record the current state of all tracked data files. False\n",
    "    > `dvc add` is used to add a data file to DVC for tracking.\n",
    "    > To record the current state, `dvc commit` is used."
   ]
  },
  {
   "cell_type": "markdown",
   "id": "39cd32dc-2870-4be8-88d2-8e91d25d986f",
   "metadata": {},
   "source": [
    "## 1.3 DVC features and use cases\n",
    "\n",
    "### Pipelines\n",
    "\n",
    "- Define pipeline in `dvc.yaml`\n",
    "\n",
    "```\n",
    "stages:\n",
    "train:\n",
    "    cmd: python train.py\n",
    "    deps:\n",
    "        - code/train.py\n",
    "        - data/input_data.csv\n",
    "        - params/params.json\n",
    "    outs:\n",
    "        - model_output/model.pkl\n",
    "```\n",
    "\n",
    "- Run with\n",
    "```\n",
    "$ dvc repro\n",
    "```\n",
    "\n",
    "\n",
    "### Tracking metrics and plots\n",
    "```\n",
    "$ dvc metrics diff\n",
    "```"
   ]
  },
  {
   "cell_type": "markdown",
   "id": "eee46eb1-21a4-48c3-a6d2-b37bb8c7e0ca",
   "metadata": {},
   "source": [
    "### Experiment tracking\n",
    "\n",
    "- Run experiment and log metrics\n",
    "```\n",
    "dvc repro\n",
    "dvc exp save\n",
    "```\n",
    "- Alternatively, combine two steps `dvc exp run`.\n",
    "- Experiments are custom Git references\n",
    "    * Prevent bloating up `Git` commits\n",
    "    * Explicit saves can be made with `dvc exp save`\n",
    "- Visualize using `dvc exp show`"
   ]
  },
  {
   "cell_type": "markdown",
   "id": "92c18ec0-a755-43f7-98fa-e2f9bd297db7",
   "metadata": {},
   "source": [
    "---------------------------"
   ]
  }
 ],
 "metadata": {
  "kernelspec": {
   "display_name": "Python 3 (ipykernel)",
   "language": "python",
   "name": "python3"
  },
  "language_info": {
   "codemirror_mode": {
    "name": "ipython",
    "version": 3
   },
   "file_extension": ".py",
   "mimetype": "text/x-python",
   "name": "python",
   "nbconvert_exporter": "python",
   "pygments_lexer": "ipython3",
   "version": "3.11.9"
  }
 },
 "nbformat": 4,
 "nbformat_minor": 5
}
