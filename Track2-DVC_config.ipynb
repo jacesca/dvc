{
 "cells": [
  {
   "cell_type": "markdown",
   "id": "c1e48910-9909-4889-8e3e-bfde26a7fda1",
   "metadata": {},
   "source": [
    "# DVC Configuration and Data Management\n",
    "\n",
    "This chapter delves into the setup of DVC, encompassing aspects such as installation, initialization of the repository, and the utilization of the .dvcignore file. It further navigates through the exploration of DVC cache and staging files, imparting knowledge on how to add and remove files, manage caches, and comprehend the underlying mechanisms using the MD5 hash. The chapter also elucidates on DVC remotes, distinguishing them from Git remotes, and guides you on how to add, list, and modify them. Lastly, it teaches you how to interact with these remotes by pushing and pulling data, checking out specific versions, and fetching data to the cache.\n",
    "\n",
    "## 2.1 DVC Setup and Initialization\n",
    "\n",
    "### Verify Installation"
   ]
  },
  {
   "cell_type": "code",
   "execution_count": 1,
   "id": "857af7ed-e3a9-468b-b5e7-fb8de2c13588",
   "metadata": {},
   "outputs": [
    {
     "name": "stdout",
     "output_type": "stream",
     "text": [
      "DVC version: 3.54.1 (choco)\n",
      "---------------------------\n",
      "Platform: Python 3.12.5 on Windows-11-10.0.22631-SP0\n",
      "Subprojects:\n",
      "\tdvc_data = 3.16.5\n",
      "\tdvc_objects = 5.1.0\n",
      "\tdvc_render = 1.0.2\n",
      "\tdvc_task = 0.4.0\n",
      "\tscmrepo = 3.3.7\n",
      "Supports:\n",
      "\tazure (adlfs = 2024.7.0, knack = 0.12.0, azure-identity = 1.17.1),\n",
      "\tgdrive (pydrive2 = 1.20.0),\n",
      "\tgs (gcsfs = 2024.6.1),\n",
      "\thttp (aiohttp = 3.10.5, aiohttp-retry = 2.8.3),\n",
      "\thttps (aiohttp = 3.10.5, aiohttp-retry = 2.8.3),\n",
      "\toss (ossfs = 2023.12.0),\n",
      "\ts3 (s3fs = 2024.6.1, boto3 = 1.34.162),\n",
      "\tssh (sshfs = 2024.6.0)\n",
      "Config:\n",
      "\tGlobal: C:\\Users\\Jacqueline\\AppData\\Local\\iterative\\dvc\n",
      "\tSystem: C:\\ProgramData\\iterative\\dvc\n"
     ]
    }
   ],
   "source": [
    "!dvc version"
   ]
  },
  {
   "cell_type": "markdown",
   "id": "f49a6cc3-e55b-4767-a798-b57d2b6270f8",
   "metadata": {},
   "source": [
    "### Data & Code Versioning"
   ]
  },
  {
   "cell_type": "code",
   "execution_count": 2,
   "id": "167213e0-8ef3-4211-9607-8635e13ddea1",
   "metadata": {},
   "outputs": [
    {
     "name": "stdout",
     "output_type": "stream",
     "text": [
      "Initialized empty Git repository in C:/Users/Jacqueline/Documents/projects/CAMP-MLPRod/6-DataVersioningDVC/.git/\n",
      "Initialized DVC repository.\n",
      "\n",
      "You can now commit the changes to git.\n",
      "\n",
      "+---------------------------------------------------------------------+\n",
      "|                                                                     |\n",
      "|        DVC has enabled anonymous aggregate usage analytics.         |\n",
      "|     Read the analytics documentation (and how to opt-out) here:     |\n",
      "|             <https://dvc.org/doc/user-guide/analytics>              |\n",
      "|                                                                     |\n",
      "+---------------------------------------------------------------------+\n",
      "\n",
      "What's next?\n",
      "------------\n",
      "- Check out the documentation: <https://dvc.org/doc>\n",
      "- Get help and share ideas: <https://dvc.org/chat>\n",
      "- Star us on GitHub: <https://github.com/iterative/dvc>\n"
     ]
    }
   ],
   "source": [
    "!git init\n",
    "!dvc init"
   ]
  },
  {
   "cell_type": "markdown",
   "id": "868deec6-26ad-4987-bcfe-21a69b1bf209",
   "metadata": {},
   "source": [
    "### Checking Ignored Files\n",
    "\n",
    "If the file is ignored, a returned message is provided, otherwise no response"
   ]
  },
  {
   "cell_type": "code",
   "execution_count": 3,
   "id": "dc408c7c-dcef-48e0-bfdb-c0006c8e0f23",
   "metadata": {},
   "outputs": [
    {
     "name": "stdout",
     "output_type": "stream",
     "text": [
      "# Add patterns of files dvc should ignore, which could improve\n",
      "# the performance. Learn more at\n",
      "# https://dvc.org/doc/user-guide/dvcignore\n",
      "\n",
      "# Ignore material folder\n",
      "material/*\n"
     ]
    }
   ],
   "source": [
    "!more .dvcignore"
   ]
  },
  {
   "cell_type": "code",
   "execution_count": 4,
   "id": "a49b2361-c580-4a73-8ea1-c28271f3ab46",
   "metadata": {},
   "outputs": [
    {
     "name": "stdout",
     "output_type": "stream",
     "text": [
      "material/1.2 Introduction to DVC.txt\n"
     ]
    }
   ],
   "source": [
    "!dvc check-ignore \"material/1.2 Introduction to DVC.txt\""
   ]
  },
  {
   "cell_type": "code",
   "execution_count": 5,
   "id": "785395e9-9cd3-494a-b5f3-100a79372da3",
   "metadata": {},
   "outputs": [
    {
     "name": "stdout",
     "output_type": "stream",
     "text": [
      ".dvcignore:6:material/*\tmaterial/1.2 Introduction to DVC.txt\n"
     ]
    }
   ],
   "source": [
    "!dvc check-ignore -d \"material/1.2 Introduction to DVC.txt\""
   ]
  },
  {
   "cell_type": "code",
   "execution_count": 6,
   "id": "d3a1c575-0063-40ad-8f84-e3971cfbbaa5",
   "metadata": {},
   "outputs": [],
   "source": [
    "!dvc check-ignore data-sources/booking.csv"
   ]
  },
  {
   "cell_type": "markdown",
   "id": "ff486abf-dab2-4792-abb7-290c80709e52",
   "metadata": {},
   "source": [
    "## 2.2 DVC Cache and Staging Files\n",
    "\n",
    "### Configure location for DVC Cache\n",
    "\n",
    "```\n",
    "$ dvc cache dir ~/mycache\n",
    "```\n",
    "\n",
    "### Adding Files to Cache\n",
    "\n",
    "Use `dvc add -v` for verbose output\n",
    "\n",
    "```\n",
    "$ dvc add data.csv\n",
    "```\n",
    "\n",
    "### `booking.csv.dvc` file content as example\n",
    "\n",
    "```\n",
    "outs:\n",
    "- md5: 8e30b9da0032c81edebc9f7492dcea14\n",
    "  size: 3241399\n",
    "  hash: md5\n",
    "  path: booking.csv\n",
    "```\n",
    "\n",
    "### Removing from and Cleaning Cache\n",
    "\n",
    "```\n",
    "$ dvc remove data.csv.dvc\n",
    "$ dvc gc -w\n",
    "```"
   ]
  },
  {
   "cell_type": "markdown",
   "id": "2e6a6725-d995-41e3-990c-66a296a67f38",
   "metadata": {},
   "source": [
    "## 2.3 Configuring DVC Remotes\n",
    "\n",
    "### Setting up Remotes\n",
    "\n",
    "Setting remotes\n",
    "\n",
    "```\n",
    "dvc remote add <name> <location>\n",
    "```\n",
    "\n",
    "### S3 bucket\n",
    "\n",
    "```\n",
    "$ dvc remote add s3_remote s3://mys3bucket\n",
    "```\n",
    "\n",
    "### GCP bucket\n",
    "\n",
    "```\n",
    "$ dvc remote add gcp_remote gs://myGCPbucket\n",
    "```\n",
    "\n",
    "### Azure\n",
    "\n",
    "```\n",
    "$ dvc remote add azure_remote azure://mycontainer/path\n",
    "```"
   ]
  },
  {
   "cell_type": "code",
   "execution_count": 7,
   "id": "d4b75a9e-c6ac-404e-b120-9c3a8d9e77ac",
   "metadata": {},
   "outputs": [],
   "source": [
    "!dvc remote add s3_remote s3://mys3bucket"
   ]
  },
  {
   "cell_type": "markdown",
   "id": "6db18fad-2f89-41b2-84ec-147b47cf9574",
   "metadata": {},
   "source": [
    "### Local Remotes\n",
    "\n",
    "Local remotes are used for rapid prototyping\n",
    "\n",
    "```\n",
    "$ dvc remote add --local mylocalremote /tmp/dvc\n",
    "$ dvc remote add mylocalremote /tmp/dvc\n",
    "```\n",
    "\n",
    "Set default remotes with -d flag\n",
    "```\n",
    "$ dvc remote add -d mylocalremote /tmp/dvc\n",
    "```"
   ]
  },
  {
   "cell_type": "code",
   "execution_count": 8,
   "id": "e311d3b9-9956-42da-be38-cd6a426f179a",
   "metadata": {},
   "outputs": [
    {
     "name": "stdout",
     "output_type": "stream",
     "text": [
      "Setting 'mylocalremote' as a default remote.\n"
     ]
    }
   ],
   "source": [
    "!dvc remote add -d mylocalremote remote-storage/"
   ]
  },
  {
   "cell_type": "markdown",
   "id": "d6eaa6b7-ba53-424e-8c7a-72679f1f8e00",
   "metadata": {},
   "source": [
    "### Reads from `.dvc\\config` file"
   ]
  },
  {
   "cell_type": "code",
   "execution_count": 9,
   "id": "0ec63449-e118-42ec-b78a-c06dee51bd66",
   "metadata": {},
   "outputs": [
    {
     "name": "stdout",
     "output_type": "stream",
     "text": [
      "[core]\n",
      "    remote = mylocalremote\n",
      "['remote \"s3_remote\"']\n",
      "    url = s3://mys3bucket\n",
      "['remote \"mylocalremote\"']\n",
      "    url = ../remote-storage\n"
     ]
    }
   ],
   "source": [
    "!more .dvc\\config"
   ]
  },
  {
   "cell_type": "markdown",
   "id": "c404ca6e-86ab-46db-84db-e9b3072deda4",
   "metadata": {},
   "source": [
    "### Listing Remotes\n",
    "\n",
    "```\n",
    "$ dvc remote list\n",
    "```"
   ]
  },
  {
   "cell_type": "code",
   "execution_count": 10,
   "id": "70f193f7-aed1-4b1d-8f9f-31bd37db0b1d",
   "metadata": {},
   "outputs": [
    {
     "name": "stdout",
     "output_type": "stream",
     "text": [
      "s3_remote\ts3://mys3bucket\n",
      "mylocalremote\tC:\\Users\\Jacqueline\\Documents\\projects\\CAMP-MLPRod\\6-DataVersioningDVC\\remote-storage\n"
     ]
    }
   ],
   "source": [
    "!dvc remote list"
   ]
  },
  {
   "cell_type": "markdown",
   "id": "ed45fb3c-50db-4fbb-bfdb-95e8875b0834",
   "metadata": {},
   "source": [
    "### Modifying Remote Configuration\n",
    "\n",
    "Customizations can be done with dvc remote modify\n",
    "\n",
    "```\n",
    "$ dvc remote modify s3_remote connect_timeout 300\n",
    "```\n",
    "\n",
    "Modifying a DVC remote's location, we can use the following command\n",
    "\n",
    "```\n",
    "$ dvc remote modify --local <remote_name> url </path/to/new-location>\n",
    "```"
   ]
  },
  {
   "cell_type": "code",
   "execution_count": 11,
   "id": "ad4415be-45c9-49bc-bff0-0c008997255e",
   "metadata": {},
   "outputs": [],
   "source": [
    "!dvc remote modify s3_remote connect_timeout 300"
   ]
  },
  {
   "cell_type": "code",
   "execution_count": 12,
   "id": "7c109c01-b10c-49b1-a544-2b7ba25420a1",
   "metadata": {},
   "outputs": [
    {
     "name": "stdout",
     "output_type": "stream",
     "text": [
      "[core]\n",
      "    remote = mylocalremote\n",
      "['remote \"s3_remote\"']\n",
      "    url = s3://mys3bucket\n",
      "    connect_timeout = 300\n",
      "['remote \"mylocalremote\"']\n",
      "    url = ../remote-storage\n"
     ]
    }
   ],
   "source": [
    "!more .dvc\\config"
   ]
  },
  {
   "cell_type": "markdown",
   "id": "f2ee7844-4af3-4b6f-a93a-016b885366e4",
   "metadata": {},
   "source": [
    "## 2.4 Interacting with DVC Remotes\n",
    "\n",
    "### Uploading and Retrieving Data\n",
    "\n",
    "- Moving data from cache to DVC remote\n",
    "\n",
    "```\n",
    "$ dvc push <target>\n",
    "$ dvc pull <target>\n",
    "```\n",
    "\n",
    "- Push entire cache\n",
    "\n",
    "```\n",
    "$ dvc push\n",
    "```\n",
    "\n",
    "- Update the cache without changing workspace contents\n",
    "\n",
    "```\n",
    "$ dvc fetch\n",
    "```\n",
    "\n",
    "- Override default remote with -r flag\n",
    "\n",
    "```\n",
    "$ dvc push -r aws_remote data.csv\n",
    "```"
   ]
  },
  {
   "cell_type": "markdown",
   "id": "f4d510fa-7e57-461f-b211-56d6d9501dce",
   "metadata": {},
   "source": [
    "### Versioning data\n",
    "\n",
    "- `.dvc` is tracked by Git, not DVC\n",
    "- Leverage this to checkout specific version of data file\n",
    "- Checkout `.dvc` file\n",
    "\n",
    "```\n",
    "$ git checkout <commit_hash|tag|branch>\n",
    "```\n",
    "    \n",
    "- Retrieve data with MD5 specified in .dvc file\n",
    "\n",
    "```\n",
    "$ dvc checkout <target>\n",
    "```"
   ]
  },
  {
   "cell_type": "markdown",
   "id": "dec3f78d-4b9d-4c4d-88a3-e5c33892342a",
   "metadata": {},
   "source": [
    "### Tracking Data Changes\n",
    "\n",
    "- Change data file contents, then add dataset changes\n",
    "\n",
    "```\n",
    "$ dvc add <target>\n",
    "```\n",
    "    \n",
    "- Commit changed .dvc file to Git\n",
    "\n",
    "```\n",
    "$ git add <target>.dvc\n",
    "$ git commit <target>.dvc -m \"Dataset updates\"\n",
    "```\n",
    "\n",
    "- Push metadata to Git\n",
    "\n",
    "```\n",
    "$ git push origin main\n",
    "```\n",
    "\n",
    "- Upload changed data file\n",
    "```\n",
    "$ dvc push\n",
    "```"
   ]
  },
  {
   "cell_type": "markdown",
   "id": "dcc24dcc-e177-49b2-bea5-f0232357ae69",
   "metadata": {},
   "source": [
    "### Ex.1 - Versioning Data using DVC Remote\n",
    "\n",
    "In this editor exercise, you'll practice how to version your datasets and push them into DVC remote. Data versioning and storage is the fundamental value proposition of DVC, and you'll learn the mechanics of the interplay between Git and DVC to achieve this. The dataset you'll be working with is a weather dataset that is used for rainfall prediction, given the atmospheric conditions.\n",
    "\n",
    "We've already initialized DVC, configured a local remote at /tmp/dvc, and added a setup commit.\n",
    "\n",
    "**Instruction**\n",
    "\n",
    "- Add the `dataset.csv` to DVC cache.\n",
    "- Commit the corresponding `.dvc` file to Git, with the commit message `\"tracking dataset.csv\"`.\n",
    "- Push the dataset to the DVC remote.\n",
    "- Though you are the only one working with this DVC setup, run the dvc pull command to ensure everything is up to date.\n",
    "\n",
    "```\n",
    "$ dvc add dataset.csv \n",
    "$ git status\n",
    "$ git add .\n",
    "$ git commit -m \"tracking dataset.csv\"\n",
    "$ dvc remote list\n",
    "$ dvc push\n",
    "$ dvc pull                                                                         \n",
    "```"
   ]
  },
  {
   "cell_type": "markdown",
   "id": "b7d0eaaf-ca26-45d2-955e-b792c670d8d8",
   "metadata": {},
   "source": [
    "### Ex.2 - Checking out Versioned Data\n",
    "\n",
    "In this editor exercise, you'll practice moving between versions of your datasets by checking out corresponding metadata versions from the Git repository. This exercise builds on the previous one by tracking the initial state of the weather dataset, followed by removing 1000 lines from it and committing it to DVC remote. Your task will be to roll back the Git commit to a previous state, check out the DVC dataset at that corresponding state, and observe the changes.\n",
    "\n",
    "We've already initialized DVC, configured a local remote at /tmp/dvc, and added a setup commit. Then, we added two more commits marking the dataset tracking and changes.\n",
    "\n",
    "**NOTE**: To rollback changes we have committed to git repository by N commits, you can use\n",
    "\n",
    "```\n",
    "git reset --hard HEAD~N\n",
    "```\n",
    "\n",
    "**Instruction**\n",
    "\n",
    "1. Inspect the Git commit history using git log command. Notice the top two commit messages reflecting the updates to the dataset. Press q to get out of interactive mode.\n",
    "2. Inspect the md5 value in the dataset.csv.dvc file and compare it to the file by running md5sum dataset.csv.\n",
    "3. Roll back the changes made to the dataset metadata file by one commit. The md5 value would have changed, but will be inconsistent with the md5sum dataset.csv.\n",
    "4. Update the dataset by checking out the version consistent with the metadata file. The md5 value in the metadata should now be consistent with md5sum dataset.csv.\n",
    "\n",
    "\n",
    "```\n",
    "$ git log\n",
    "$ cat dataset.csv.dvc\n",
    "$ md5sum dataset.csv\n",
    "$ git reset --hard HEAD~1\n",
    "$ dvc checkout\n",
    "$ cat dataset.csv.dvc\n",
    "$ md5sum dataset.csv\n",
    "```"
   ]
  },
  {
   "cell_type": "markdown",
   "id": "9f136817-ae81-463f-bce3-9cae0869148c",
   "metadata": {},
   "source": [
    "-------------------"
   ]
  }
 ],
 "metadata": {
  "kernelspec": {
   "display_name": "Python 3 (ipykernel)",
   "language": "python",
   "name": "python3"
  },
  "language_info": {
   "codemirror_mode": {
    "name": "ipython",
    "version": 3
   },
   "file_extension": ".py",
   "mimetype": "text/x-python",
   "name": "python",
   "nbconvert_exporter": "python",
   "pygments_lexer": "ipython3",
   "version": "3.11.9"
  }
 },
 "nbformat": 4,
 "nbformat_minor": 5
}
